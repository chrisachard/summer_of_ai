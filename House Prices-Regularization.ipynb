{
 "cells": [
  {
   "cell_type": "code",
   "execution_count": 1,
   "metadata": {},
   "outputs": [],
   "source": [
    "import numpy as np\n",
    "import torch\n",
    "import torch.utils.data\n",
    "import math\n",
    "import torch.nn.functional as F"
   ]
  },
  {
   "cell_type": "code",
   "execution_count": 2,
   "metadata": {},
   "outputs": [
    {
     "data": {
      "text/plain": [
       "array([['Id', 'MSSubClass', 'MSZoning', ..., 'SaleType', 'SaleCondition',\n",
       "        'SalePrice'],\n",
       "       ['1', '60', 'RL', ..., 'WD', 'Normal', '208500'],\n",
       "       ['2', '20', 'RL', ..., 'WD', 'Normal', '181500'],\n",
       "       ...,\n",
       "       ['1458', '70', 'RL', ..., 'WD', 'Normal', '266500'],\n",
       "       ['1459', '20', 'RL', ..., 'WD', 'Normal', '142125'],\n",
       "       ['1460', '20', 'RL', ..., 'WD', 'Normal', '147500']], dtype='<U13')"
      ]
     },
     "execution_count": 2,
     "metadata": {},
     "output_type": "execute_result"
    }
   ],
   "source": [
    "npdata = np.genfromtxt(\n",
    "    open(\"./data/house-train.csv\", \"rb\"), \n",
    "    delimiter=\",\",\n",
    "    dtype='unicode'\n",
    ")\n",
    "npdata"
   ]
  },
  {
   "cell_type": "code",
   "execution_count": 3,
   "metadata": {},
   "outputs": [
    {
     "data": {
      "text/plain": [
       "array(['Id', 'MSSubClass', 'MSZoning', 'LotFrontage', 'LotArea', 'Street',\n",
       "       'Alley', 'LotShape', 'LandContour', 'Utilities', 'LotConfig',\n",
       "       'LandSlope', 'Neighborhood', 'Condition1', 'Condition2',\n",
       "       'BldgType', 'HouseStyle', 'OverallQual', 'OverallCond',\n",
       "       'YearBuilt', 'YearRemodAdd', 'RoofStyle', 'RoofMatl',\n",
       "       'Exterior1st', 'Exterior2nd', 'MasVnrType', 'MasVnrArea',\n",
       "       'ExterQual', 'ExterCond', 'Foundation', 'BsmtQual', 'BsmtCond',\n",
       "       'BsmtExposure', 'BsmtFinType1', 'BsmtFinSF1', 'BsmtFinType2',\n",
       "       'BsmtFinSF2', 'BsmtUnfSF', 'TotalBsmtSF', 'Heating', 'HeatingQC',\n",
       "       'CentralAir', 'Electrical', '1stFlrSF', '2ndFlrSF', 'LowQualFinSF',\n",
       "       'GrLivArea', 'BsmtFullBath', 'BsmtHalfBath', 'FullBath',\n",
       "       'HalfBath', 'BedroomAbvGr', 'KitchenAbvGr', 'KitchenQual',\n",
       "       'TotRmsAbvGrd', 'Functional', 'Fireplaces', 'FireplaceQu',\n",
       "       'GarageType', 'GarageYrBlt', 'GarageFinish', 'GarageCars',\n",
       "       'GarageArea', 'GarageQual', 'GarageCond', 'PavedDrive',\n",
       "       'WoodDeckSF', 'OpenPorchSF', 'EnclosedPorch', '3SsnPorch',\n",
       "       'ScreenPorch', 'PoolArea', 'PoolQC', 'Fence', 'MiscFeature',\n",
       "       'MiscVal', 'MoSold', 'YrSold', 'SaleType', 'SaleCondition',\n",
       "       'SalePrice'], dtype='<U13')"
      ]
     },
     "execution_count": 3,
     "metadata": {},
     "output_type": "execute_result"
    }
   ],
   "source": [
    "npdata[0]"
   ]
  },
  {
   "cell_type": "code",
   "execution_count": 4,
   "metadata": {},
   "outputs": [
    {
     "data": {
      "text/plain": [
       "array(['LotArea', 'TotalBsmtSF', 'GrLivArea', 'GarageArea',\n",
       "       'Neighborhood', 'BldgType'], dtype='<U13')"
      ]
     },
     "execution_count": 4,
     "metadata": {},
     "output_type": "execute_result"
    }
   ],
   "source": [
    "npdata[0, [4, 38, 46, 62, 12, 15]]"
   ]
  },
  {
   "cell_type": "code",
   "execution_count": 5,
   "metadata": {},
   "outputs": [
    {
     "data": {
      "text/plain": [
       "array(['SalePrice'], dtype='<U13')"
      ]
     },
     "execution_count": 5,
     "metadata": {},
     "output_type": "execute_result"
    }
   ],
   "source": [
    "npdata[0, [80]]"
   ]
  },
  {
   "cell_type": "code",
   "execution_count": 6,
   "metadata": {},
   "outputs": [],
   "source": [
    "neighborhoods = list(set(npdata[1:, 12]))\n",
    "building_type = list(set(npdata[1:, 15]))"
   ]
  },
  {
   "cell_type": "code",
   "execution_count": 7,
   "metadata": {},
   "outputs": [],
   "source": [
    "class HouseDataset(torch.utils.data.Dataset):\n",
    "    \n",
    "    def __init__(self):\n",
    "        npdata = np.genfromtxt(\n",
    "            open(\"./data/house-train.csv\", \"rb\"), \n",
    "            delimiter=\",\",\n",
    "            dtype='unicode'\n",
    "        )\n",
    "        \n",
    "        np_inputs = npdata[1:, [4, 38, 46, 62, 12, 15]]\n",
    "        \n",
    "        for row in np_inputs:\n",
    "            row[4] = neighborhoods.index(row[4])\n",
    "            row[5] = building_type.index(row[5])\n",
    "        \n",
    "        np_inputs = np_inputs.astype(np.float32)\n",
    "        \n",
    "        np_outputs = npdata[1:, [80]].astype(np.float32)\n",
    "        \n",
    "        self.inputs = torch.from_numpy(np_inputs)\n",
    "        self.outputs = torch.from_numpy(np_outputs)\n",
    "        \n",
    "    def __len__(self):\n",
    "        return len(self.inputs)\n",
    "        \n",
    "    def __getitem__(self, idx):\n",
    "        return (self.inputs[idx], self.outputs[idx])\n",
    "        \n",
    "        "
   ]
  },
  {
   "cell_type": "code",
   "execution_count": 8,
   "metadata": {},
   "outputs": [],
   "source": [
    "dataset = HouseDataset()"
   ]
  },
  {
   "cell_type": "code",
   "execution_count": 9,
   "metadata": {},
   "outputs": [
    {
     "data": {
      "text/plain": [
       "(tensor([8.4500e+03, 8.5600e+02, 1.7100e+03, 5.4800e+02, 2.1000e+01, 3.0000e+00]),\n",
       " tensor([208500.]))"
      ]
     },
     "execution_count": 9,
     "metadata": {},
     "output_type": "execute_result"
    }
   ],
   "source": [
    "dataset.__getitem__(0)"
   ]
  },
  {
   "cell_type": "code",
   "execution_count": 10,
   "metadata": {},
   "outputs": [],
   "source": [
    "train_size = math.floor(len(dataset) * 0.8)"
   ]
  },
  {
   "cell_type": "code",
   "execution_count": 11,
   "metadata": {},
   "outputs": [],
   "source": [
    "val_size = len(dataset) - train_size"
   ]
  },
  {
   "cell_type": "code",
   "execution_count": 12,
   "metadata": {},
   "outputs": [],
   "source": [
    "train_data, val_data = torch.utils.data.random_split(\n",
    "    dataset, \n",
    "    [train_size, val_size]\n",
    ")"
   ]
  },
  {
   "cell_type": "code",
   "execution_count": 13,
   "metadata": {},
   "outputs": [
    {
     "data": {
      "text/plain": [
       "1168"
      ]
     },
     "execution_count": 13,
     "metadata": {},
     "output_type": "execute_result"
    }
   ],
   "source": [
    "len(train_data)"
   ]
  },
  {
   "cell_type": "code",
   "execution_count": 14,
   "metadata": {},
   "outputs": [
    {
     "data": {
      "text/plain": [
       "292"
      ]
     },
     "execution_count": 14,
     "metadata": {},
     "output_type": "execute_result"
    }
   ],
   "source": [
    "len(val_data)"
   ]
  },
  {
   "cell_type": "code",
   "execution_count": 15,
   "metadata": {},
   "outputs": [],
   "source": [
    "train_loader = torch.utils.data.DataLoader(\n",
    "    train_data,\n",
    "    batch_size=128,\n",
    "    shuffle=True\n",
    ")"
   ]
  },
  {
   "cell_type": "code",
   "execution_count": 16,
   "metadata": {},
   "outputs": [],
   "source": [
    "val_loader = torch.utils.data.DataLoader(\n",
    "    val_data,\n",
    "    batch_size=128,\n",
    "    shuffle=True\n",
    ")"
   ]
  },
  {
   "cell_type": "code",
   "execution_count": 44,
   "metadata": {},
   "outputs": [],
   "source": [
    "class Net(torch.nn.Module):\n",
    "    \n",
    "    def __init__(self):\n",
    "        super(Net, self).__init__()\n",
    "        \n",
    "        self.n_emb = torch.nn.Embedding(len(neighborhoods), 5)\n",
    "        self.bt_emb = torch.nn.Embedding(len(building_type), 3)\n",
    "        \n",
    "        # 4 + 5 + 3 = 12\n",
    "        \n",
    "        self.layer1 = torch.nn.Linear(12, 16)\n",
    "        self.layer2 = torch.nn.Linear(16, 1)\n",
    "    \n",
    "    def forward(self, x):\n",
    "        \n",
    "        neigh = x[:, 4].long()\n",
    "        bt = x[:, 5].long()\n",
    "        \n",
    "        e_neigh = self.n_emb(neigh)\n",
    "        e_bt = self.bt_emb(bt)\n",
    "        \n",
    "        all_inputs = torch.cat((x[:, [0, 1, 2, 3]], e_neigh, e_bt), dim=1)\n",
    "        \n",
    "        x = self.layer1(all_inputs)\n",
    "        x = F.relu(x)\n",
    "        x = F.dropout(x, p=0.2, training=self.training)\n",
    "        \n",
    "        x = self.layer2(x)\n",
    "        \n",
    "        return x\n",
    "        "
   ]
  },
  {
   "cell_type": "code",
   "execution_count": 45,
   "metadata": {},
   "outputs": [],
   "source": [
    "net = Net()"
   ]
  },
  {
   "cell_type": "code",
   "execution_count": 55,
   "metadata": {},
   "outputs": [],
   "source": [
    "criterion = torch.nn.MSELoss()\n",
    "optimizer = torch.optim.Adam(net.parameters(), lr=0.01, weight_decay=0.01)"
   ]
  },
  {
   "cell_type": "code",
   "execution_count": 56,
   "metadata": {},
   "outputs": [
    {
     "name": "stdout",
     "output_type": "stream",
     "text": [
      "19.9%\n"
     ]
    }
   ],
   "source": [
    "total_pct_error = 0\n",
    "total_count = 0\n",
    "\n",
    "net.train()\n",
    "\n",
    "for i in range(250):\n",
    "    for j, data in enumerate(train_loader, 0):\n",
    "        \n",
    "        inputs = data[0]\n",
    "        outputs = data[1]\n",
    "        \n",
    "        net.zero_grad()\n",
    "        net_output = net(inputs)\n",
    "        \n",
    "        diff = (net_output - outputs).abs()\n",
    "        pct_error = (diff / outputs * 100).mean().item()\n",
    "        total_pct_error += (pct_error * len(inputs))\n",
    "        total_count += len(inputs)\n",
    "        \n",
    "        loss = criterion(net_output, outputs)\n",
    "        loss.backward()\n",
    "        optimizer.step()\n",
    "        \n",
    "print(\"%.1f%%\" % (total_pct_error / total_count))"
   ]
  },
  {
   "cell_type": "code",
   "execution_count": 57,
   "metadata": {},
   "outputs": [
    {
     "name": "stdout",
     "output_type": "stream",
     "text": [
      "13.0%\n"
     ]
    }
   ],
   "source": [
    "val_pct_error = 0\n",
    "val_count = 0\n",
    "\n",
    "net.eval()\n",
    "\n",
    "for i, data in enumerate(val_loader, 0):\n",
    "    inputs = data[0]\n",
    "    prices = data[1]\n",
    "\n",
    "    net_output = net(inputs)\n",
    "    diff = (net_output - prices).abs()\n",
    "    pct_diff = (diff / prices * 100).mean().item()\n",
    "\n",
    "    val_pct_error += (pct_diff * len(inputs))\n",
    "    val_count += len(inputs)\n",
    "\n",
    "print(\"%0.1f%%\" % (val_pct_error / val_count))"
   ]
  },
  {
   "cell_type": "code",
   "execution_count": 46,
   "metadata": {},
   "outputs": [],
   "source": [
    "torch.save({\n",
    "    'model': net.state_dict(),\n",
    "    'optimizer': optimizer.state_dict()\n",
    "}, './house_prices.pt')"
   ]
  },
  {
   "cell_type": "code",
   "execution_count": null,
   "metadata": {},
   "outputs": [],
   "source": []
  }
 ],
 "metadata": {
  "kernelspec": {
   "display_name": "Python 3",
   "language": "python",
   "name": "python3"
  },
  "language_info": {
   "codemirror_mode": {
    "name": "ipython",
    "version": 3
   },
   "file_extension": ".py",
   "mimetype": "text/x-python",
   "name": "python",
   "nbconvert_exporter": "python",
   "pygments_lexer": "ipython3",
   "version": "3.7.3"
  }
 },
 "nbformat": 4,
 "nbformat_minor": 2
}
